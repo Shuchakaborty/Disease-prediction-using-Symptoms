{
  "cells": [
    {
      "cell_type": "code",
      "execution_count": 1,
      "id": "iZbhOQACvhUk",
      "metadata": {
        "colab": {
          "base_uri": "https://localhost:8080/"
        },
        "id": "iZbhOQACvhUk",
        "outputId": "a976e76a-5363-4f13-c53b-963251aea3c6"
      },
      "outputs": [
        {
          "name": "stdout",
          "output_type": "stream",
          "text": [
            "Requirement already satisfied: pandas in c:\\users\\shubha\\anaconda3\\lib\\site-packages (2.2.3)\n",
            "Collecting numpy\n",
            "  Using cached numpy-2.3.4-cp313-cp313-win_amd64.whl.metadata (60 kB)\n",
            "Requirement already satisfied: scikit-learn in c:\\users\\shubha\\anaconda3\\lib\\site-packages (1.6.1)\n",
            "Requirement already satisfied: matplotlib in c:\\users\\shubha\\anaconda3\\lib\\site-packages (3.10.0)\n",
            "Requirement already satisfied: seaborn in c:\\users\\shubha\\anaconda3\\lib\\site-packages (0.13.2)\n",
            "Requirement already satisfied: python-dateutil>=2.8.2 in c:\\users\\shubha\\anaconda3\\lib\\site-packages (from pandas) (2.9.0.post0)\n",
            "Requirement already satisfied: pytz>=2020.1 in c:\\users\\shubha\\anaconda3\\lib\\site-packages (from pandas) (2024.1)\n",
            "Requirement already satisfied: tzdata>=2022.7 in c:\\users\\shubha\\anaconda3\\lib\\site-packages (from pandas) (2025.2)\n",
            "Requirement already satisfied: scipy>=1.6.0 in c:\\users\\shubha\\anaconda3\\lib\\site-packages (from scikit-learn) (1.15.3)\n",
            "Requirement already satisfied: joblib>=1.2.0 in c:\\users\\shubha\\anaconda3\\lib\\site-packages (from scikit-learn) (1.5.2)\n",
            "Requirement already satisfied: threadpoolctl>=3.1.0 in c:\\users\\shubha\\anaconda3\\lib\\site-packages (from scikit-learn) (3.5.0)\n",
            "Requirement already satisfied: contourpy>=1.0.1 in c:\\users\\shubha\\anaconda3\\lib\\site-packages (from matplotlib) (1.3.1)\n",
            "Requirement already satisfied: cycler>=0.10 in c:\\users\\shubha\\anaconda3\\lib\\site-packages (from matplotlib) (0.11.0)\n",
            "Requirement already satisfied: fonttools>=4.22.0 in c:\\users\\shubha\\anaconda3\\lib\\site-packages (from matplotlib) (4.55.3)\n",
            "Requirement already satisfied: kiwisolver>=1.3.1 in c:\\users\\shubha\\anaconda3\\lib\\site-packages (from matplotlib) (1.4.8)\n",
            "Requirement already satisfied: packaging>=20.0 in c:\\users\\shubha\\anaconda3\\lib\\site-packages (from matplotlib) (24.2)\n",
            "Requirement already satisfied: pillow>=8 in c:\\users\\shubha\\anaconda3\\lib\\site-packages (from matplotlib) (11.1.0)\n",
            "Requirement already satisfied: pyparsing>=2.3.1 in c:\\users\\shubha\\anaconda3\\lib\\site-packages (from matplotlib) (3.2.0)\n",
            "Requirement already satisfied: six>=1.5 in c:\\users\\shubha\\anaconda3\\lib\\site-packages (from python-dateutil>=2.8.2->pandas) (1.17.0)\n",
            "Using cached numpy-2.3.4-cp313-cp313-win_amd64.whl (12.8 MB)\n",
            "Installing collected packages: numpy\n",
            "Successfully installed numpy-2.3.4\n"
          ]
        },
        {
          "name": "stderr",
          "output_type": "stream",
          "text": [
            "ERROR: pip's dependency resolver does not currently take into account all the packages that are installed. This behaviour is the source of the following dependency conflicts.\n",
            "numba 0.61.0 requires numpy<2.2,>=1.24, but you have numpy 2.3.4 which is incompatible.\n"
          ]
        }
      ],
      "source": [
        "!pip  install pandas numpy scikit-learn matplotlib seaborn"
      ]
    },
    {
      "cell_type": "code",
      "execution_count": 3,
      "id": "4UnsbQPK3oCx",
      "metadata": {
        "id": "4UnsbQPK3oCx"
      },
      "outputs": [],
      "source": [
        "import pandas as pd\n",
        "from sklearn.model_selection import train_test_split\n",
        "from sklearn.preprocessing import LabelEncoder\n",
        "from sklearn.ensemble import RandomForestClassifier\n",
        "from sklearn.metrics import classification_report, confusion_matrix\n",
        "import numpy as np\n",
        "import io\n",
        "import joblib"
      ]
    },
    {
      "cell_type": "code",
      "execution_count": 4,
      "id": "cfdaa82d",
      "metadata": {},
      "outputs": [
        {
          "name": "stdout",
          "output_type": "stream",
          "text": [
            "DataFrame loaded with 55 rows.\n"
          ]
        }
      ],
      "source": [
        "import pandas as pd\n",
        "df = pd.read_csv('data/disease_train_data.csv')\n",
        "print(f\"DataFrame loaded with {len(df)} rows.\")"
      ]
    },
    {
      "cell_type": "code",
      "execution_count": 5,
      "id": "e7N39Y2k5U0M",
      "metadata": {
        "id": "e7N39Y2k5U0M"
      },
      "outputs": [
        {
          "name": "stdout",
          "output_type": "stream",
          "text": [
            "\n",
            "--- Dataset Overview ---\n",
            "Shape: (55, 147)\n",
            "Columns: 147\n",
            "First 5 columns: ['itching', 'skin_rash', 'nodal_skin_eruptions', 'continuous_sneezing', 'shivering']\n",
            "Last 5 columns: ['bone_pain', 'tingling_in_hands_feets', 'memory_loss', 'blood_deficiency', 'prognosis']\n"
          ]
        }
      ],
      "source": [
        "def clean_col_name(col):\n",
        "    \n",
        "    col = col.strip().lower()\n",
        "    col = col.replace(\" \", \"_\")\n",
        "    col = col.replace(\"-\", \"_\")\n",
        "    col = col.replace(\"(\", \"\")\n",
        "    col = col.replace(\")\", \"\")\n",
        "    col = col.replace(\".\", \"\")\n",
        "    col = \"_\".join(filter(None, col.split(\"_\")))\n",
        "    return col\n",
        "df.columns = [clean_col_name(col) for col in df.columns]\n",
        "\n",
        "print(\"\\n--- Dataset Overview ---\")\n",
        "print(f\"Shape: {df.shape}\")\n",
        "print(f\"Columns: {len(df.columns)}\")\n",
        "print(f\"First 5 columns: {df.columns[:5].tolist()}\")\n",
        "print(f\"Last 5 columns: {df.columns[-5:].tolist()}\")"
      ]
    },
    {
      "cell_type": "code",
      "execution_count": 6,
      "id": "XsM9g7zK6SwO",
      "metadata": {
        "colab": {
          "base_uri": "https://localhost:8080/",
          "height": 307
        },
        "id": "XsM9g7zK6SwO",
        "outputId": "b1ac32c0-9bb4-4397-c0eb-84440d367c8b"
      },
      "outputs": [
        {
          "data": {
            "text/html": [
              "<div>\n",
              "<style scoped>\n",
              "    .dataframe tbody tr th:only-of-type {\n",
              "        vertical-align: middle;\n",
              "    }\n",
              "\n",
              "    .dataframe tbody tr th {\n",
              "        vertical-align: top;\n",
              "    }\n",
              "\n",
              "    .dataframe thead th {\n",
              "        text-align: right;\n",
              "    }\n",
              "</style>\n",
              "<table border=\"1\" class=\"dataframe\">\n",
              "  <thead>\n",
              "    <tr style=\"text-align: right;\">\n",
              "      <th></th>\n",
              "      <th>itching</th>\n",
              "      <th>skin_rash</th>\n",
              "      <th>nodal_skin_eruptions</th>\n",
              "      <th>continuous_sneezing</th>\n",
              "      <th>shivering</th>\n",
              "      <th>chills</th>\n",
              "      <th>joint_pain</th>\n",
              "      <th>stomach_pain</th>\n",
              "      <th>acidity</th>\n",
              "      <th>ulcers_on_tongue</th>\n",
              "      <th>...</th>\n",
              "      <th>dry_skin</th>\n",
              "      <th>bleeding_gums_swollen_gums</th>\n",
              "      <th>nosebleeds</th>\n",
              "      <th>slow_wound_healing</th>\n",
              "      <th>�tooth_loss�</th>\n",
              "      <th>bone_pain</th>\n",
              "      <th>tingling_in_hands_feets</th>\n",
              "      <th>memory_loss</th>\n",
              "      <th>blood_deficiency</th>\n",
              "      <th>prognosis</th>\n",
              "    </tr>\n",
              "  </thead>\n",
              "  <tbody>\n",
              "    <tr>\n",
              "      <th>0</th>\n",
              "      <td>1</td>\n",
              "      <td>1</td>\n",
              "      <td>1</td>\n",
              "      <td>0</td>\n",
              "      <td>0</td>\n",
              "      <td>0</td>\n",
              "      <td>0</td>\n",
              "      <td>0</td>\n",
              "      <td>0</td>\n",
              "      <td>0</td>\n",
              "      <td>...</td>\n",
              "      <td>0</td>\n",
              "      <td>0</td>\n",
              "      <td>0</td>\n",
              "      <td>0</td>\n",
              "      <td>0</td>\n",
              "      <td>0</td>\n",
              "      <td>0</td>\n",
              "      <td>0</td>\n",
              "      <td>0</td>\n",
              "      <td>Fungal infection</td>\n",
              "    </tr>\n",
              "    <tr>\n",
              "      <th>1</th>\n",
              "      <td>0</td>\n",
              "      <td>0</td>\n",
              "      <td>0</td>\n",
              "      <td>1</td>\n",
              "      <td>1</td>\n",
              "      <td>1</td>\n",
              "      <td>0</td>\n",
              "      <td>0</td>\n",
              "      <td>0</td>\n",
              "      <td>0</td>\n",
              "      <td>...</td>\n",
              "      <td>0</td>\n",
              "      <td>0</td>\n",
              "      <td>0</td>\n",
              "      <td>0</td>\n",
              "      <td>0</td>\n",
              "      <td>0</td>\n",
              "      <td>0</td>\n",
              "      <td>0</td>\n",
              "      <td>0</td>\n",
              "      <td>Allergy</td>\n",
              "    </tr>\n",
              "    <tr>\n",
              "      <th>2</th>\n",
              "      <td>0</td>\n",
              "      <td>0</td>\n",
              "      <td>0</td>\n",
              "      <td>0</td>\n",
              "      <td>0</td>\n",
              "      <td>0</td>\n",
              "      <td>0</td>\n",
              "      <td>1</td>\n",
              "      <td>1</td>\n",
              "      <td>1</td>\n",
              "      <td>...</td>\n",
              "      <td>0</td>\n",
              "      <td>0</td>\n",
              "      <td>0</td>\n",
              "      <td>0</td>\n",
              "      <td>0</td>\n",
              "      <td>0</td>\n",
              "      <td>0</td>\n",
              "      <td>0</td>\n",
              "      <td>0</td>\n",
              "      <td>GERD</td>\n",
              "    </tr>\n",
              "    <tr>\n",
              "      <th>3</th>\n",
              "      <td>1</td>\n",
              "      <td>0</td>\n",
              "      <td>0</td>\n",
              "      <td>0</td>\n",
              "      <td>0</td>\n",
              "      <td>0</td>\n",
              "      <td>0</td>\n",
              "      <td>0</td>\n",
              "      <td>0</td>\n",
              "      <td>0</td>\n",
              "      <td>...</td>\n",
              "      <td>0</td>\n",
              "      <td>0</td>\n",
              "      <td>0</td>\n",
              "      <td>0</td>\n",
              "      <td>0</td>\n",
              "      <td>0</td>\n",
              "      <td>0</td>\n",
              "      <td>0</td>\n",
              "      <td>0</td>\n",
              "      <td>Chronic cholestasis</td>\n",
              "    </tr>\n",
              "    <tr>\n",
              "      <th>4</th>\n",
              "      <td>1</td>\n",
              "      <td>1</td>\n",
              "      <td>0</td>\n",
              "      <td>0</td>\n",
              "      <td>0</td>\n",
              "      <td>0</td>\n",
              "      <td>0</td>\n",
              "      <td>1</td>\n",
              "      <td>0</td>\n",
              "      <td>0</td>\n",
              "      <td>...</td>\n",
              "      <td>0</td>\n",
              "      <td>0</td>\n",
              "      <td>0</td>\n",
              "      <td>0</td>\n",
              "      <td>0</td>\n",
              "      <td>0</td>\n",
              "      <td>0</td>\n",
              "      <td>0</td>\n",
              "      <td>0</td>\n",
              "      <td>Drug Reaction</td>\n",
              "    </tr>\n",
              "  </tbody>\n",
              "</table>\n",
              "<p>5 rows × 147 columns</p>\n",
              "</div>"
            ],
            "text/plain": [
              "   itching  skin_rash  nodal_skin_eruptions  continuous_sneezing  shivering  \\\n",
              "0        1          1                     1                    0          0   \n",
              "1        0          0                     0                    1          1   \n",
              "2        0          0                     0                    0          0   \n",
              "3        1          0                     0                    0          0   \n",
              "4        1          1                     0                    0          0   \n",
              "\n",
              "   chills  joint_pain  stomach_pain  acidity  ulcers_on_tongue  ...  dry_skin  \\\n",
              "0       0           0             0        0                 0  ...         0   \n",
              "1       1           0             0        0                 0  ...         0   \n",
              "2       0           0             1        1                 1  ...         0   \n",
              "3       0           0             0        0                 0  ...         0   \n",
              "4       0           0             1        0                 0  ...         0   \n",
              "\n",
              "   bleeding_gums_swollen_gums  nosebleeds  slow_wound_healing  �tooth_loss�  \\\n",
              "0                           0           0                   0             0   \n",
              "1                           0           0                   0             0   \n",
              "2                           0           0                   0             0   \n",
              "3                           0           0                   0             0   \n",
              "4                           0           0                   0             0   \n",
              "\n",
              "   bone_pain  tingling_in_hands_feets  memory_loss  blood_deficiency  \\\n",
              "0          0                        0            0                 0   \n",
              "1          0                        0            0                 0   \n",
              "2          0                        0            0                 0   \n",
              "3          0                        0            0                 0   \n",
              "4          0                        0            0                 0   \n",
              "\n",
              "             prognosis  \n",
              "0     Fungal infection  \n",
              "1              Allergy  \n",
              "2                 GERD  \n",
              "3  Chronic cholestasis  \n",
              "4        Drug Reaction  \n",
              "\n",
              "[5 rows x 147 columns]"
            ]
          },
          "execution_count": 6,
          "metadata": {},
          "output_type": "execute_result"
        }
      ],
      "source": [
        "df.head()"
      ]
    },
    {
      "cell_type": "code",
      "execution_count": 7,
      "id": "JBlyN8gL6YBb",
      "metadata": {
        "colab": {
          "base_uri": "https://localhost:8080/",
          "height": 359
        },
        "id": "JBlyN8gL6YBb",
        "outputId": "4e674583-f3b2-49c6-a2d7-db122a9e7b38"
      },
      "outputs": [
        {
          "data": {
            "text/html": [
              "<div>\n",
              "<style scoped>\n",
              "    .dataframe tbody tr th:only-of-type {\n",
              "        vertical-align: middle;\n",
              "    }\n",
              "\n",
              "    .dataframe tbody tr th {\n",
              "        vertical-align: top;\n",
              "    }\n",
              "\n",
              "    .dataframe thead th {\n",
              "        text-align: right;\n",
              "    }\n",
              "</style>\n",
              "<table border=\"1\" class=\"dataframe\">\n",
              "  <thead>\n",
              "    <tr style=\"text-align: right;\">\n",
              "      <th></th>\n",
              "      <th>itching</th>\n",
              "      <th>skin_rash</th>\n",
              "      <th>nodal_skin_eruptions</th>\n",
              "      <th>continuous_sneezing</th>\n",
              "      <th>shivering</th>\n",
              "      <th>chills</th>\n",
              "      <th>joint_pain</th>\n",
              "      <th>stomach_pain</th>\n",
              "      <th>acidity</th>\n",
              "      <th>ulcers_on_tongue</th>\n",
              "      <th>...</th>\n",
              "      <th>dry_skin</th>\n",
              "      <th>bleeding_gums_swollen_gums</th>\n",
              "      <th>nosebleeds</th>\n",
              "      <th>slow_wound_healing</th>\n",
              "      <th>�tooth_loss�</th>\n",
              "      <th>bone_pain</th>\n",
              "      <th>tingling_in_hands_feets</th>\n",
              "      <th>memory_loss</th>\n",
              "      <th>blood_deficiency</th>\n",
              "      <th>prognosis</th>\n",
              "    </tr>\n",
              "  </thead>\n",
              "  <tbody>\n",
              "    <tr>\n",
              "      <th>50</th>\n",
              "      <td>0</td>\n",
              "      <td>0</td>\n",
              "      <td>0</td>\n",
              "      <td>0</td>\n",
              "      <td>0</td>\n",
              "      <td>0</td>\n",
              "      <td>1</td>\n",
              "      <td>0</td>\n",
              "      <td>0</td>\n",
              "      <td>0</td>\n",
              "      <td>...</td>\n",
              "      <td>0</td>\n",
              "      <td>0</td>\n",
              "      <td>0</td>\n",
              "      <td>0</td>\n",
              "      <td>0</td>\n",
              "      <td>0</td>\n",
              "      <td>0</td>\n",
              "      <td>0</td>\n",
              "      <td>0</td>\n",
              "      <td>Calcium Deficiency</td>\n",
              "    </tr>\n",
              "    <tr>\n",
              "      <th>51</th>\n",
              "      <td>0</td>\n",
              "      <td>0</td>\n",
              "      <td>0</td>\n",
              "      <td>0</td>\n",
              "      <td>0</td>\n",
              "      <td>0</td>\n",
              "      <td>1</td>\n",
              "      <td>0</td>\n",
              "      <td>0</td>\n",
              "      <td>0</td>\n",
              "      <td>...</td>\n",
              "      <td>1</td>\n",
              "      <td>0</td>\n",
              "      <td>0</td>\n",
              "      <td>0</td>\n",
              "      <td>0</td>\n",
              "      <td>0</td>\n",
              "      <td>0</td>\n",
              "      <td>0</td>\n",
              "      <td>0</td>\n",
              "      <td>Vitamin A  Deficiency</td>\n",
              "    </tr>\n",
              "    <tr>\n",
              "      <th>52</th>\n",
              "      <td>0</td>\n",
              "      <td>0</td>\n",
              "      <td>0</td>\n",
              "      <td>0</td>\n",
              "      <td>0</td>\n",
              "      <td>0</td>\n",
              "      <td>0</td>\n",
              "      <td>0</td>\n",
              "      <td>0</td>\n",
              "      <td>0</td>\n",
              "      <td>...</td>\n",
              "      <td>1</td>\n",
              "      <td>1</td>\n",
              "      <td>1</td>\n",
              "      <td>1</td>\n",
              "      <td>1</td>\n",
              "      <td>0</td>\n",
              "      <td>0</td>\n",
              "      <td>0</td>\n",
              "      <td>0</td>\n",
              "      <td>Vitamin C  Deficiency</td>\n",
              "    </tr>\n",
              "    <tr>\n",
              "      <th>53</th>\n",
              "      <td>0</td>\n",
              "      <td>0</td>\n",
              "      <td>0</td>\n",
              "      <td>0</td>\n",
              "      <td>0</td>\n",
              "      <td>0</td>\n",
              "      <td>0</td>\n",
              "      <td>0</td>\n",
              "      <td>0</td>\n",
              "      <td>0</td>\n",
              "      <td>...</td>\n",
              "      <td>0</td>\n",
              "      <td>0</td>\n",
              "      <td>0</td>\n",
              "      <td>0</td>\n",
              "      <td>0</td>\n",
              "      <td>1</td>\n",
              "      <td>0</td>\n",
              "      <td>0</td>\n",
              "      <td>0</td>\n",
              "      <td>Vitamin D  Deficiency</td>\n",
              "    </tr>\n",
              "    <tr>\n",
              "      <th>54</th>\n",
              "      <td>0</td>\n",
              "      <td>0</td>\n",
              "      <td>0</td>\n",
              "      <td>0</td>\n",
              "      <td>0</td>\n",
              "      <td>0</td>\n",
              "      <td>0</td>\n",
              "      <td>0</td>\n",
              "      <td>0</td>\n",
              "      <td>0</td>\n",
              "      <td>...</td>\n",
              "      <td>0</td>\n",
              "      <td>0</td>\n",
              "      <td>0</td>\n",
              "      <td>0</td>\n",
              "      <td>0</td>\n",
              "      <td>0</td>\n",
              "      <td>1</td>\n",
              "      <td>1</td>\n",
              "      <td>1</td>\n",
              "      <td>Vitamin B12 Deficiency</td>\n",
              "    </tr>\n",
              "  </tbody>\n",
              "</table>\n",
              "<p>5 rows × 147 columns</p>\n",
              "</div>"
            ],
            "text/plain": [
              "    itching  skin_rash  nodal_skin_eruptions  continuous_sneezing  shivering  \\\n",
              "50        0          0                     0                    0          0   \n",
              "51        0          0                     0                    0          0   \n",
              "52        0          0                     0                    0          0   \n",
              "53        0          0                     0                    0          0   \n",
              "54        0          0                     0                    0          0   \n",
              "\n",
              "    chills  joint_pain  stomach_pain  acidity  ulcers_on_tongue  ...  \\\n",
              "50       0           1             0        0                 0  ...   \n",
              "51       0           1             0        0                 0  ...   \n",
              "52       0           0             0        0                 0  ...   \n",
              "53       0           0             0        0                 0  ...   \n",
              "54       0           0             0        0                 0  ...   \n",
              "\n",
              "    dry_skin  bleeding_gums_swollen_gums  nosebleeds  slow_wound_healing  \\\n",
              "50         0                           0           0                   0   \n",
              "51         1                           0           0                   0   \n",
              "52         1                           1           1                   1   \n",
              "53         0                           0           0                   0   \n",
              "54         0                           0           0                   0   \n",
              "\n",
              "    �tooth_loss�  bone_pain  tingling_in_hands_feets  memory_loss  \\\n",
              "50             0          0                        0            0   \n",
              "51             0          0                        0            0   \n",
              "52             1          0                        0            0   \n",
              "53             0          1                        0            0   \n",
              "54             0          0                        1            1   \n",
              "\n",
              "    blood_deficiency               prognosis  \n",
              "50                 0      Calcium Deficiency  \n",
              "51                 0   Vitamin A  Deficiency  \n",
              "52                 0   Vitamin C  Deficiency  \n",
              "53                 0   Vitamin D  Deficiency  \n",
              "54                 1  Vitamin B12 Deficiency  \n",
              "\n",
              "[5 rows x 147 columns]"
            ]
          },
          "execution_count": 7,
          "metadata": {},
          "output_type": "execute_result"
        }
      ],
      "source": [
        "df.tail()"
      ]
    },
    {
      "cell_type": "code",
      "execution_count": 8,
      "id": "6qFGKgMd6cDW",
      "metadata": {
        "colab": {
          "base_uri": "https://localhost:8080/"
        },
        "id": "6qFGKgMd6cDW",
        "outputId": "3877cb70-c049-4b00-a1e3-97740a6b5a2a"
      },
      "outputs": [
        {
          "data": {
            "text/plain": [
              "(55, 147)"
            ]
          },
          "execution_count": 8,
          "metadata": {},
          "output_type": "execute_result"
        }
      ],
      "source": [
        "df.shape"
      ]
    },
    {
      "cell_type": "code",
      "execution_count": 9,
      "id": "rRyL0XDW6hsS",
      "metadata": {
        "colab": {
          "base_uri": "https://localhost:8080/"
        },
        "id": "rRyL0XDW6hsS",
        "outputId": "2bece49b-7e29-434b-cd6e-77a969e15045"
      },
      "outputs": [
        {
          "name": "stdout",
          "output_type": "stream",
          "text": [
            "--- Head of Cleaned Dataset (First 5 Rows) ---\n",
            "|   itching |   skin_rash |   nodal_skin_eruptions |   continuous_sneezing |   shivering |   chills |   joint_pain |   stomach_pain |   acidity |   ulcers_on_tongue |   muscle_wasting |   vomiting |   burning_micturition |   spotting_urination |   fatigue |   weight_gain |   anxiety |   cold_hands_and_feets |   mood_swings |   weight_loss |   restlessness |   lethargy |   patches_in_throat |   irregular_sugar_level |   cough |   high_fever |   sunken_eyes |   breathlessness |   sweating |   dehydration |   indigestion |   headache |   yellowish_skin |   dark_urine |   nausea |   loss_of_appetite |   pain_behind_the_eyes |   back_pain |   constipation |   abdominal_pain |   diarrhoea |   mild_fever |   yellow_urine |   yellowing_of_eyes |   acute_liver_failure |   fluid_overload |   swelling_of_stomach |   swelled_lymph_nodes |   malaise |   blurred_and_distorted_vision |   phlegm |   throat_irritation |   redness_of_eyes |   sinus_pressure |   runny_nose |   congestion |   chest_pain |   weakness_in_limbs |   fast_heart_rate |   pain_during_bowel_movements |   pain_in_anal_region |   bloody_stool |   irritation_in_anus |   neck_pain |   dizziness |   cramps |   bruising |   obesity |   swollen_legs |   swollen_blood_vessels |   puffy_face_and_eyes |   enlarged_thyroid |   brittle_nails |   swollen_extremeties |   excessive_hunger |   extra_marital_contacts |   drying_and_tingling_lips |   slurred_speech |   knee_pain |   hip_joint_pain |   muscle_weakness |   stiff_neck |   swelling_joints |   movement_stiffness |   spinning_movements |   loss_of_balance |   unsteadiness |   weakness_of_one_body_side |   loss_of_smell |   bladder_discomfort |   foul_smell_of_urine |   continuous_feel_of_urine |   passage_of_gases |   internal_itching |   toxic_look_typhos |   depression |   irritability |   muscle_pain |   altered_sensorium |   red_spots_over_body |   belly_pain |   abnormal_menstruation |   dischromic_patches |   watering_from_eyes |   increased_appetite |   polyuria |   family_history |   mucoid_sputum |   rusty_sputum |   lack_of_concentration |   visual_disturbances |   receiving_blood_transfusion |   receiving_unsterile_injections |   coma |   stomach_bleeding |   distention_of_abdomen |   history_of_alcohol_consumption |   fluid_overload1 |   blood_in_sputum |   prominent_veins_on_calf |   palpitations |   painful_walking |   pus_filled_pimples |   blackheads |   scurring |   skin_peeling |   silver_like_dusting |   small_dents_in_nails |   inflammatory_nails |   blister |   red_sore_around_nose |   yellow_crust_ooze |   blood_in_urine_hematuria |   spider_veins_on_skin |   blurred_vision |   night_blindness |   dry_eye |   dry_skin |   bleeding_gums_swollen_gums |   nosebleeds |   slow_wound_healing |   �tooth_loss� |   bone_pain |   tingling_in_hands_feets |   memory_loss |   blood_deficiency | prognosis           |\n",
            "|----------:|------------:|-----------------------:|----------------------:|------------:|---------:|-------------:|---------------:|----------:|-------------------:|-----------------:|-----------:|----------------------:|---------------------:|----------:|--------------:|----------:|-----------------------:|--------------:|--------------:|---------------:|-----------:|--------------------:|------------------------:|--------:|-------------:|--------------:|-----------------:|-----------:|--------------:|--------------:|-----------:|-----------------:|-------------:|---------:|-------------------:|-----------------------:|------------:|---------------:|-----------------:|------------:|-------------:|---------------:|--------------------:|----------------------:|-----------------:|----------------------:|----------------------:|----------:|-------------------------------:|---------:|--------------------:|------------------:|-----------------:|-------------:|-------------:|-------------:|--------------------:|------------------:|------------------------------:|----------------------:|---------------:|---------------------:|------------:|------------:|---------:|-----------:|----------:|---------------:|------------------------:|----------------------:|-------------------:|----------------:|----------------------:|-------------------:|-------------------------:|---------------------------:|-----------------:|------------:|-----------------:|------------------:|-------------:|------------------:|---------------------:|---------------------:|------------------:|---------------:|----------------------------:|----------------:|---------------------:|----------------------:|---------------------------:|-------------------:|-------------------:|--------------------:|-------------:|---------------:|--------------:|--------------------:|----------------------:|-------------:|------------------------:|---------------------:|---------------------:|---------------------:|-----------:|-----------------:|----------------:|---------------:|------------------------:|----------------------:|------------------------------:|---------------------------------:|-------:|-------------------:|------------------------:|---------------------------------:|------------------:|------------------:|--------------------------:|---------------:|------------------:|---------------------:|-------------:|-----------:|---------------:|----------------------:|-----------------------:|---------------------:|----------:|-----------------------:|--------------------:|---------------------------:|-----------------------:|-----------------:|------------------:|----------:|-----------:|-----------------------------:|-------------:|---------------------:|---------------:|------------:|--------------------------:|--------------:|-------------------:|:--------------------|\n",
            "|         1 |           1 |                      1 |                     0 |           0 |        0 |            0 |              0 |         0 |                  0 |                0 |          0 |                     0 |                    0 |         0 |             0 |         0 |                      0 |             0 |             0 |              0 |          0 |                   0 |                       0 |       0 |            0 |             0 |                0 |          0 |             0 |             0 |          0 |                0 |            0 |        0 |                  0 |                      0 |           0 |              0 |                0 |           0 |            0 |              0 |                   0 |                     0 |                0 |                     0 |                     0 |         0 |                              0 |        0 |                   0 |                 0 |                0 |            0 |            0 |            0 |                   0 |                 0 |                             0 |                     0 |              0 |                    0 |           0 |           0 |        0 |          0 |         0 |              0 |                       0 |                     0 |                  0 |               0 |                     0 |                  0 |                        0 |                          0 |                0 |           0 |                0 |                 0 |            0 |                 0 |                    0 |                    0 |                 0 |              0 |                           0 |               0 |                    0 |                     0 |                          0 |                  0 |                  0 |                   0 |            0 |              0 |             0 |                   0 |                     0 |            0 |                       0 |                    1 |                    0 |                    0 |          0 |                0 |               0 |              0 |                       0 |                     0 |                             0 |                                0 |      0 |                  0 |                       0 |                                0 |                 0 |                 0 |                         0 |              0 |                 0 |                    0 |            0 |          0 |              0 |                     0 |                      0 |                    0 |         0 |                      0 |                   0 |                          0 |                      0 |                0 |                 0 |         0 |          0 |                            0 |            0 |                    0 |              0 |           0 |                         0 |             0 |                  0 | Fungal infection    |\n",
            "|         0 |           0 |                      0 |                     1 |           1 |        1 |            0 |              0 |         0 |                  0 |                0 |          0 |                     0 |                    0 |         0 |             0 |         0 |                      0 |             0 |             0 |              0 |          0 |                   0 |                       0 |       0 |            0 |             0 |                0 |          0 |             0 |             0 |          0 |                0 |            0 |        0 |                  0 |                      0 |           0 |              0 |                0 |           0 |            0 |              0 |                   0 |                     0 |                0 |                     0 |                     0 |         0 |                              0 |        0 |                   0 |                 0 |                0 |            0 |            0 |            0 |                   0 |                 0 |                             0 |                     0 |              0 |                    0 |           0 |           0 |        0 |          0 |         0 |              0 |                       0 |                     0 |                  0 |               0 |                     0 |                  0 |                        0 |                          0 |                0 |           0 |                0 |                 0 |            0 |                 0 |                    0 |                    0 |                 0 |              0 |                           0 |               0 |                    0 |                     0 |                          0 |                  0 |                  0 |                   0 |            0 |              0 |             0 |                   0 |                     0 |            0 |                       0 |                    0 |                    1 |                    0 |          0 |                0 |               0 |              0 |                       0 |                     0 |                             0 |                                0 |      0 |                  0 |                       0 |                                0 |                 0 |                 0 |                         0 |              0 |                 0 |                    0 |            0 |          0 |              0 |                     0 |                      0 |                    0 |         0 |                      0 |                   0 |                          0 |                      0 |                0 |                 0 |         0 |          0 |                            0 |            0 |                    0 |              0 |           0 |                         0 |             0 |                  0 | Allergy             |\n",
            "|         0 |           0 |                      0 |                     0 |           0 |        0 |            0 |              1 |         1 |                  1 |                0 |          1 |                     0 |                    0 |         0 |             0 |         0 |                      0 |             0 |             0 |              0 |          0 |                   0 |                       0 |       1 |            0 |             0 |                0 |          0 |             0 |             0 |          0 |                0 |            0 |        0 |                  0 |                      0 |           0 |              0 |                0 |           0 |            0 |              0 |                   0 |                     0 |                0 |                     0 |                     0 |         0 |                              0 |        0 |                   0 |                 0 |                0 |            0 |            0 |            1 |                   0 |                 0 |                             0 |                     0 |              0 |                    0 |           0 |           0 |        0 |          0 |         0 |              0 |                       0 |                     0 |                  0 |               0 |                     0 |                  0 |                        0 |                          0 |                0 |           0 |                0 |                 0 |            0 |                 0 |                    0 |                    0 |                 0 |              0 |                           0 |               0 |                    0 |                     0 |                          0 |                  0 |                  0 |                   0 |            0 |              0 |             0 |                   0 |                     0 |            0 |                       0 |                    0 |                    0 |                    0 |          0 |                0 |               0 |              0 |                       0 |                     0 |                             0 |                                0 |      0 |                  0 |                       0 |                                0 |                 0 |                 0 |                         0 |              0 |                 0 |                    0 |            0 |          0 |              0 |                     0 |                      0 |                    0 |         0 |                      0 |                   0 |                          0 |                      0 |                0 |                 0 |         0 |          0 |                            0 |            0 |                    0 |              0 |           0 |                         0 |             0 |                  0 | GERD                |\n",
            "|         1 |           0 |                      0 |                     0 |           0 |        0 |            0 |              0 |         0 |                  0 |                0 |          1 |                     0 |                    0 |         0 |             0 |         0 |                      0 |             0 |             0 |              0 |          0 |                   0 |                       0 |       0 |            0 |             0 |                0 |          0 |             0 |             0 |          0 |                1 |            0 |        1 |                  1 |                      0 |           0 |              0 |                1 |           0 |            0 |              0 |                   1 |                     0 |                0 |                     0 |                     0 |         0 |                              0 |        0 |                   0 |                 0 |                0 |            0 |            0 |            0 |                   0 |                 0 |                             0 |                     0 |              0 |                    0 |           0 |           0 |        0 |          0 |         0 |              0 |                       0 |                     0 |                  0 |               0 |                     0 |                  0 |                        0 |                          0 |                0 |           0 |                0 |                 0 |            0 |                 0 |                    0 |                    0 |                 0 |              0 |                           0 |               0 |                    0 |                     0 |                          0 |                  0 |                  0 |                   0 |            0 |              0 |             0 |                   0 |                     0 |            0 |                       0 |                    0 |                    0 |                    0 |          0 |                0 |               0 |              0 |                       0 |                     0 |                             0 |                                0 |      0 |                  0 |                       0 |                                0 |                 0 |                 0 |                         0 |              0 |                 0 |                    0 |            0 |          0 |              0 |                     0 |                      0 |                    0 |         0 |                      0 |                   0 |                          0 |                      0 |                0 |                 0 |         0 |          0 |                            0 |            0 |                    0 |              0 |           0 |                         0 |             0 |                  0 | Chronic cholestasis |\n",
            "|         1 |           1 |                      0 |                     0 |           0 |        0 |            0 |              1 |         0 |                  0 |                0 |          0 |                     1 |                    1 |         0 |             0 |         0 |                      0 |             0 |             0 |              0 |          0 |                   0 |                       0 |       0 |            0 |             0 |                0 |          0 |             0 |             0 |          0 |                0 |            0 |        0 |                  0 |                      0 |           0 |              0 |                0 |           0 |            0 |              0 |                   0 |                     0 |                0 |                     0 |                     0 |         0 |                              0 |        0 |                   0 |                 0 |                0 |            0 |            0 |            0 |                   0 |                 0 |                             0 |                     0 |              0 |                    0 |           0 |           0 |        0 |          0 |         0 |              0 |                       0 |                     0 |                  0 |               0 |                     0 |                  0 |                        0 |                          0 |                0 |           0 |                0 |                 0 |            0 |                 0 |                    0 |                    0 |                 0 |              0 |                           0 |               0 |                    0 |                     0 |                          0 |                  0 |                  0 |                   0 |            0 |              0 |             0 |                   0 |                     0 |            0 |                       0 |                    0 |                    0 |                    0 |          0 |                0 |               0 |              0 |                       0 |                     0 |                             0 |                                0 |      0 |                  0 |                       0 |                                0 |                 0 |                 0 |                         0 |              0 |                 0 |                    0 |            0 |          0 |              0 |                     0 |                      0 |                    0 |         0 |                      0 |                   0 |                          0 |                      0 |                0 |                 0 |         0 |          0 |                            0 |            0 |                    0 |              0 |           0 |                         0 |             0 |                  0 | Drug Reaction       |\n",
            "\n",
            "--- Tail of Cleaned Dataset (Last 5 Rows) ---\n",
            "|   itching |   skin_rash |   nodal_skin_eruptions |   continuous_sneezing |   shivering |   chills |   joint_pain |   stomach_pain |   acidity |   ulcers_on_tongue |   muscle_wasting |   vomiting |   burning_micturition |   spotting_urination |   fatigue |   weight_gain |   anxiety |   cold_hands_and_feets |   mood_swings |   weight_loss |   restlessness |   lethargy |   patches_in_throat |   irregular_sugar_level |   cough |   high_fever |   sunken_eyes |   breathlessness |   sweating |   dehydration |   indigestion |   headache |   yellowish_skin |   dark_urine |   nausea |   loss_of_appetite |   pain_behind_the_eyes |   back_pain |   constipation |   abdominal_pain |   diarrhoea |   mild_fever |   yellow_urine |   yellowing_of_eyes |   acute_liver_failure |   fluid_overload |   swelling_of_stomach |   swelled_lymph_nodes |   malaise |   blurred_and_distorted_vision |   phlegm |   throat_irritation |   redness_of_eyes |   sinus_pressure |   runny_nose |   congestion |   chest_pain |   weakness_in_limbs |   fast_heart_rate |   pain_during_bowel_movements |   pain_in_anal_region |   bloody_stool |   irritation_in_anus |   neck_pain |   dizziness |   cramps |   bruising |   obesity |   swollen_legs |   swollen_blood_vessels |   puffy_face_and_eyes |   enlarged_thyroid |   brittle_nails |   swollen_extremeties |   excessive_hunger |   extra_marital_contacts |   drying_and_tingling_lips |   slurred_speech |   knee_pain |   hip_joint_pain |   muscle_weakness |   stiff_neck |   swelling_joints |   movement_stiffness |   spinning_movements |   loss_of_balance |   unsteadiness |   weakness_of_one_body_side |   loss_of_smell |   bladder_discomfort |   foul_smell_of_urine |   continuous_feel_of_urine |   passage_of_gases |   internal_itching |   toxic_look_typhos |   depression |   irritability |   muscle_pain |   altered_sensorium |   red_spots_over_body |   belly_pain |   abnormal_menstruation |   dischromic_patches |   watering_from_eyes |   increased_appetite |   polyuria |   family_history |   mucoid_sputum |   rusty_sputum |   lack_of_concentration |   visual_disturbances |   receiving_blood_transfusion |   receiving_unsterile_injections |   coma |   stomach_bleeding |   distention_of_abdomen |   history_of_alcohol_consumption |   fluid_overload1 |   blood_in_sputum |   prominent_veins_on_calf |   palpitations |   painful_walking |   pus_filled_pimples |   blackheads |   scurring |   skin_peeling |   silver_like_dusting |   small_dents_in_nails |   inflammatory_nails |   blister |   red_sore_around_nose |   yellow_crust_ooze |   blood_in_urine_hematuria |   spider_veins_on_skin |   blurred_vision |   night_blindness |   dry_eye |   dry_skin |   bleeding_gums_swollen_gums |   nosebleeds |   slow_wound_healing |   �tooth_loss� |   bone_pain |   tingling_in_hands_feets |   memory_loss |   blood_deficiency | prognosis              |\n",
            "|----------:|------------:|-----------------------:|----------------------:|------------:|---------:|-------------:|---------------:|----------:|-------------------:|-----------------:|-----------:|----------------------:|---------------------:|----------:|--------------:|----------:|-----------------------:|--------------:|--------------:|---------------:|-----------:|--------------------:|------------------------:|--------:|-------------:|--------------:|-----------------:|-----------:|--------------:|--------------:|-----------:|-----------------:|-------------:|---------:|-------------------:|-----------------------:|------------:|---------------:|-----------------:|------------:|-------------:|---------------:|--------------------:|----------------------:|-----------------:|----------------------:|----------------------:|----------:|-------------------------------:|---------:|--------------------:|------------------:|-----------------:|-------------:|-------------:|-------------:|--------------------:|------------------:|------------------------------:|----------------------:|---------------:|---------------------:|------------:|------------:|---------:|-----------:|----------:|---------------:|------------------------:|----------------------:|-------------------:|----------------:|----------------------:|-------------------:|-------------------------:|---------------------------:|-----------------:|------------:|-----------------:|------------------:|-------------:|------------------:|---------------------:|---------------------:|------------------:|---------------:|----------------------------:|----------------:|---------------------:|----------------------:|---------------------------:|-------------------:|-------------------:|--------------------:|-------------:|---------------:|--------------:|--------------------:|----------------------:|-------------:|------------------------:|---------------------:|---------------------:|---------------------:|-----------:|-----------------:|----------------:|---------------:|------------------------:|----------------------:|------------------------------:|---------------------------------:|-------:|-------------------:|------------------------:|---------------------------------:|------------------:|------------------:|--------------------------:|---------------:|------------------:|---------------------:|-------------:|-----------:|---------------:|----------------------:|-----------------------:|---------------------:|----------:|-----------------------:|--------------------:|---------------------------:|-----------------------:|-----------------:|------------------:|----------:|-----------:|-----------------------------:|-------------:|---------------------:|---------------:|------------:|--------------------------:|--------------:|-------------------:|:-----------------------|\n",
            "|         0 |           0 |                      0 |                     0 |           0 |        0 |            1 |              0 |         0 |                  0 |                0 |          0 |                     0 |                    0 |         1 |             0 |         1 |                      0 |             0 |             0 |              0 |          0 |                   0 |                       0 |       0 |            0 |             0 |                1 |          0 |             0 |             0 |          0 |                0 |            0 |        0 |                  0 |                      0 |           0 |              0 |                0 |           0 |            0 |              0 |                   0 |                     0 |                0 |                     0 |                     0 |         0 |                              0 |        0 |                   0 |                 0 |                0 |            0 |            0 |            0 |                   1 |                 0 |                             0 |                     0 |              0 |                    0 |           0 |           0 |        1 |          0 |         0 |              0 |                       0 |                     0 |                  0 |               1 |                     0 |                  0 |                        0 |                          1 |                0 |           1 |                1 |                 1 |            0 |                 0 |                    0 |                    0 |                 0 |              0 |                           0 |               0 |                    0 |                     0 |                          0 |                  0 |                  0 |                   0 |            0 |              1 |             1 |                   0 |                     0 |            0 |                       0 |                    0 |                    0 |                    0 |          0 |                0 |               0 |              0 |                       1 |                     0 |                             0 |                                0 |      0 |                  0 |                       0 |                                0 |                 0 |                 0 |                         0 |              1 |                 0 |                    0 |            0 |          0 |              0 |                     0 |                      0 |                    0 |         0 |                      0 |                   0 |                          0 |                      0 |                1 |                 0 |         0 |          0 |                            0 |            0 |                    0 |              0 |           0 |                         0 |             0 |                  0 | Calcium Deficiency     |\n",
            "|         0 |           0 |                      0 |                     0 |           0 |        0 |            1 |              0 |         0 |                  0 |                0 |          0 |                     0 |                    0 |         1 |             0 |         0 |                      0 |             0 |             0 |              0 |          0 |                   0 |                       0 |       0 |            0 |             0 |                0 |          0 |             0 |             0 |          0 |                0 |            0 |        0 |                  0 |                      0 |           0 |              0 |                0 |           1 |            0 |              0 |                   0 |                     0 |                0 |                     0 |                     0 |         1 |                              1 |        0 |                   0 |                 1 |                0 |            0 |            0 |            0 |                   0 |                 0 |                             0 |                     0 |              0 |                    0 |           0 |           0 |        0 |          0 |         0 |              0 |                       0 |                     0 |                  0 |               0 |                     0 |                  0 |                        0 |                          0 |                0 |           0 |                1 |                 0 |            0 |                 0 |                    0 |                    0 |                 0 |              0 |                           0 |               0 |                    0 |                     0 |                          0 |                  0 |                  0 |                   0 |            0 |              0 |             0 |                   0 |                     0 |            0 |                       0 |                    0 |                    0 |                    0 |          0 |                0 |               0 |              0 |                       0 |                     1 |                             0 |                                0 |      0 |                  0 |                       0 |                                0 |                 0 |                 0 |                         0 |              0 |                 0 |                    0 |            0 |          0 |              0 |                     0 |                      0 |                    0 |         0 |                      0 |                   0 |                          0 |                      0 |                0 |                 1 |         1 |          1 |                            0 |            0 |                    0 |              0 |           0 |                         0 |             0 |                  0 | Vitamin A  Deficiency  |\n",
            "|         0 |           0 |                      0 |                     0 |           0 |        0 |            0 |              0 |         0 |                  0 |                0 |          0 |                     0 |                    0 |         1 |             0 |         0 |                      0 |             0 |             0 |              0 |          0 |                   0 |                       0 |       0 |            0 |             0 |                0 |          0 |             0 |             0 |          0 |                0 |            0 |        0 |                  0 |                      0 |           0 |              0 |                0 |           0 |            0 |              0 |                   0 |                     0 |                0 |                     0 |                     0 |         0 |                              0 |        0 |                   0 |                 0 |                0 |            0 |            0 |            0 |                   0 |                 0 |                             0 |                     0 |              0 |                    0 |           0 |           0 |        0 |          0 |         0 |              0 |                       0 |                     0 |                  0 |               0 |                     0 |                  0 |                        0 |                          1 |                0 |           0 |                1 |                 1 |            0 |                 1 |                    0 |                    0 |                 0 |              0 |                           0 |               0 |                    0 |                     0 |                          0 |                  0 |                  0 |                   0 |            0 |              1 |             1 |                   0 |                     0 |            0 |                       0 |                    0 |                    0 |                    0 |          0 |                0 |               0 |              0 |                       0 |                     0 |                             0 |                                0 |      0 |                  0 |                       0 |                                0 |                 0 |                 0 |                         0 |              0 |                 0 |                    0 |            0 |          0 |              0 |                     0 |                      0 |                    0 |         0 |                      0 |                   0 |                          0 |                      0 |                0 |                 0 |         0 |          1 |                            1 |            1 |                    1 |              1 |           0 |                         0 |             0 |                  0 | Vitamin C  Deficiency  |\n",
            "|         0 |           0 |                      0 |                     0 |           0 |        0 |            0 |              0 |         0 |                  0 |                0 |          0 |                     0 |                    0 |         1 |             0 |         0 |                      0 |             0 |             0 |              0 |          0 |                   0 |                       0 |       0 |            0 |             0 |                0 |          0 |             0 |             0 |          0 |                0 |            0 |        0 |                  0 |                      0 |           0 |              0 |                0 |           0 |            0 |              0 |                   0 |                     0 |                0 |                     0 |                     0 |         0 |                              0 |        0 |                   0 |                 0 |                0 |            0 |            0 |            0 |                   0 |                 0 |                             0 |                     0 |              0 |                    0 |           0 |           0 |        0 |          0 |         0 |              0 |                       0 |                     0 |                  0 |               0 |                     0 |                  0 |                        0 |                          0 |                0 |           0 |                0 |                 1 |            0 |                 0 |                    0 |                    0 |                 0 |              0 |                           0 |               0 |                    0 |                     0 |                          0 |                  0 |                  0 |                   0 |            0 |              0 |             0 |                   0 |                     0 |            0 |                       0 |                    0 |                    0 |                    0 |          0 |                0 |               0 |              0 |                       0 |                     0 |                             0 |                                0 |      0 |                  0 |                       0 |                                0 |                 0 |                 0 |                         0 |              0 |                 0 |                    0 |            0 |          0 |              0 |                     0 |                      0 |                    0 |         0 |                      0 |                   0 |                          0 |                      0 |                0 |                 0 |         0 |          0 |                            0 |            0 |                    0 |              0 |           1 |                         0 |             0 |                  0 | Vitamin D  Deficiency  |\n",
            "|         0 |           0 |                      0 |                     0 |           0 |        0 |            0 |              0 |         0 |                  0 |                0 |          0 |                     0 |                    0 |         1 |             0 |         0 |                      0 |             0 |             0 |              0 |          0 |                   0 |                       0 |       0 |            0 |             0 |                0 |          0 |             0 |             0 |          0 |                0 |            0 |        0 |                  0 |                      0 |           0 |              0 |                0 |           0 |            0 |              0 |                   0 |                     0 |                0 |                     0 |                     0 |         0 |                              0 |        0 |                   0 |                 0 |                0 |            0 |            0 |            0 |                   0 |                 0 |                             0 |                     0 |              0 |                    0 |           0 |           0 |        0 |          0 |         0 |              0 |                       0 |                     0 |                  0 |               0 |                     0 |                  0 |                        0 |                          0 |                0 |           0 |                0 |                 0 |            0 |                 0 |                    0 |                    0 |                 0 |              0 |                           0 |               0 |                    0 |                     0 |                          0 |                  0 |                  0 |                   0 |            0 |              0 |             0 |                   0 |                     0 |            0 |                       0 |                    0 |                    0 |                    0 |          0 |                0 |               0 |              0 |                       1 |                     0 |                             0 |                                0 |      0 |                  0 |                       0 |                                0 |                 0 |                 0 |                         0 |              0 |                 0 |                    0 |            0 |          0 |              0 |                     0 |                      0 |                    0 |         0 |                      0 |                   0 |                          0 |                      0 |                0 |                 0 |         0 |          0 |                            0 |            0 |                    0 |              0 |           0 |                         1 |             1 |                  1 | Vitamin B12 Deficiency |\n",
            "----------------------------------------\n"
          ]
        }
      ],
      "source": [
        "\n",
        "# Apply column cleaning to the entire DataFrame\n",
        "df.columns = [clean_col_name(col) for col in df.columns]\n",
        "df = df.fillna(0)\n",
        "    # --- EDA Step: Display Head and Tail of Cleaned Data ---\n",
        "print(\"--- Head of Cleaned Dataset (First 5 Rows) ---\")\n",
        "print(df.head().to_markdown(index=False))\n",
        "\n",
        "print(\"\\n--- Tail of Cleaned Dataset (Last 5 Rows) ---\")\n",
        "print(df.tail().to_markdown(index=False))\n",
        "print(\"-\" * 40)\n"
      ]
    },
    {
      "cell_type": "code",
      "execution_count": 10,
      "id": "gM1g6WGC6pd7",
      "metadata": {
        "colab": {
          "base_uri": "https://localhost:8080/"
        },
        "id": "gM1g6WGC6pd7",
        "outputId": "95260cc1-6f7c-4591-956a-a225910923f7"
      },
      "outputs": [
        {
          "name": "stdout",
          "output_type": "stream",
          "text": [
            "--- Disease Frequency (Top 5) ---\n",
            "| prognosis           | count   |\n",
            "|:--------------------|:--------|\n",
            "| Fungal infection    | 2       |\n",
            "| Allergy             | 1       |\n",
            "| GERD                | 1       |\n",
            "| Chronic cholestasis | 1       |\n",
            "| Drug Reaction       | 1       |\n",
            "----------------------------------------\n"
          ]
        }
      ],
      "source": [
        "if 'prognosis' not in df.columns:\n",
        "        print(\"Error: 'prognosis' column not found after cleaning. Check your dataset structure.\")\n",
        "        # Cannot proceed without target column\n",
        "else:\n",
        "        # Separate features (X) and target (y)\n",
        "        X = df.drop('prognosis', axis=1)\n",
        "        y = df['prognosis']\n",
        "        X = X.loc[:, (X != 0).any(axis=0)]\n",
        "        X = X.astype(np.int8)\n",
        "        # --- NEW CONFIRMATION STEP: Check Disease Frequency ---\n",
        "        print(\"--- Disease Frequency (Top 5) ---\")\n",
        "        print(y.value_counts().head(5).to_markdown(numalign=\"left\", stralign=\"left\"))\n",
        "        print(\"-\" * 40)"
      ]
    },
    {
      "cell_type": "code",
      "execution_count": 11,
      "id": "JxHBI7pL7Ug8",
      "metadata": {
        "id": "JxHBI7pL7Ug8"
      },
      "outputs": [],
      "source": [
        "le = LabelEncoder()\n",
        "y_encoded = le.fit_transform(y)\n",
        "\n",
        "        # Get the list of symptom columns for later use in prediction\n",
        "symptom_columns = X.columns.tolist()\n"
      ]
    },
    {
      "cell_type": "code",
      "execution_count": 12,
      "id": "ojzTPluq7cKT",
      "metadata": {
        "colab": {
          "base_uri": "https://localhost:8080/"
        },
        "id": "ojzTPluq7cKT",
        "outputId": "f86f3627-8886-49b9-90c5-50f8bbf777d2"
      },
      "outputs": [
        {
          "name": "stdout",
          "output_type": "stream",
          "text": [
            "--- Available Symptoms in Dataset (Features) ---\n",
            "Verified 'Spider veins on skin' column name: spider_veins_on_skin\n",
            "Total number of samples: 55\n",
            "Number of symptom features: 145\n",
            "Number of unique diseases: 54\n",
            "----------------------------------------\n"
          ]
        }
      ],
      "source": [
        "print(\"--- Available Symptoms in Dataset (Features) ---\")\n",
        "        # Find and print the specific symptom we are troubleshooting\n",
        "try:\n",
        "    spider_veins_col = [col for col in symptom_columns if 'spider' in col]\n",
        "    print(f\"Verified 'Spider veins on skin' column name: {spider_veins_col[0] if spider_veins_col else 'Not Found'}\")\n",
        "except:\n",
        "    pass\n",
        "print(f\"Total number of samples: {len(X)}\")\n",
        "print(f\"Number of symptom features: {len(symptom_columns)}\")\n",
        "print(f\"Number of unique diseases: {len(le.classes_)}\")\n",
        "print(\"-\" * 40)"
      ]
    },
    {
      "cell_type": "code",
      "execution_count": 43,
      "id": "ofX5nUHL79-Y",
      "metadata": {
        "colab": {
          "base_uri": "https://localhost:8080/"
        },
        "id": "ofX5nUHL79-Y",
        "outputId": "88623c05-c9d7-4c34-e02c-8bb3bf174e22"
      },
      "outputs": [
        {
          "name": "stdout",
          "output_type": "stream",
          "text": [
            "Training samples: 52\n",
            "Testing samples: 3\n",
            "----------------------------------------\n"
          ]
        }
      ],
      "source": [
        "X_train, X_test, y_train, y_test = train_test_split(\n",
        "            X, y_encoded, test_size=0.05, random_state=42 # CHANGED test_size to 0.1\n",
        "        )\n",
        "\n",
        "print(f\"Training samples: {len(X_train)}\")\n",
        "print(f\"Testing samples: {len(X_test)}\")\n",
        "print(\"-\" * 40)"
      ]
    },
    {
      "cell_type": "code",
      "execution_count": 44,
      "id": "FK5rQT2D8Jth",
      "metadata": {
        "colab": {
          "base_uri": "https://localhost:8080/"
        },
        "id": "FK5rQT2D8Jth",
        "outputId": "59874df1-7400-4862-9e40-4572ee3d2c60"
      },
      "outputs": [
        {
          "name": "stdout",
          "output_type": "stream",
          "text": [
            "\n",
            "Model successfully saved to disease_model.pkl\n",
            "Label Encoder successfully saved to label_encoder.pkl\n",
            "----------------------------------------\n",
            "--- Model Evaluation ---\n",
            "Classification Report (Filtered):\n",
            "                     precision    recall  f1-score   support\n",
            "\n",
            "    Hyperthyroidism       0.00      0.00      0.00       1.0\n",
            "     Hypothyroidism       0.00      0.00      0.00       1.0\n",
            "Peptic ulcer diseae       0.00      0.00      0.00       1.0\n",
            "\n",
            "          micro avg       0.00      0.00      0.00       3.0\n",
            "          macro avg       0.00      0.00      0.00       3.0\n",
            "       weighted avg       0.00      0.00      0.00       3.0\n",
            "\n",
            "\n",
            "Confusion Matrix (Test Set):\n",
            "[[0 0 0 0 0 0]\n",
            " [0 0 0 0 0 1]\n",
            " [0 0 0 1 0 0]\n",
            " [0 0 0 0 0 0]\n",
            " [1 0 0 0 0 0]\n",
            " [0 0 0 0 0 0]]\n",
            "----------------------------------------\n"
          ]
        }
      ],
      "source": [
        "model = RandomForestClassifier(n_estimators=100, random_state=42)\n",
        "model.fit(X_train, y_train)\n",
        "MODEL_FILENAME = 'disease_model.pkl'\n",
        "ENCODER_FILENAME = 'label_encoder.pkl'\n",
        "try:\n",
        "    joblib.dump(model, MODEL_FILENAME)\n",
        "    joblib.dump(le, ENCODER_FILENAME)\n",
        "    print(f\"\\nModel successfully saved to {MODEL_FILENAME}\")\n",
        "    print(f\"Label Encoder successfully saved to {ENCODER_FILENAME}\")\n",
        "except Exception as e:\n",
        "       print(f\"Error saving model files: {e}\")\n",
        "print(\"-\" * 40)\n",
        "\n",
        "\n",
        "        # --- 5. Evaluate the Model ---\n",
        "y_pred = model.predict(X_test)\n",
        "\n",
        "        # --- Logic to safely generate Classification Report ---\n",
        "        # Get the unique encoded labels present in the test set (y_test)\n",
        "unique_labels_in_test = np.unique(y_test)\n",
        "        # Get the corresponding disease names for those unique labels\n",
        "target_names_filtered = le.inverse_transform(unique_labels_in_test)\n",
        "\n",
        "print(\"--- Model Evaluation ---\")\n",
        "print(\"Classification Report (Filtered):\")\n",
        "        # Use the filtered target_names and labels in the report\n",
        "report = classification_report(\n",
        "            y_test, y_pred,\n",
        "            labels=unique_labels_in_test, # Explicitly tell report which labels to look for\n",
        "            target_names=target_names_filtered,\n",
        "            zero_division=0\n",
        "        )\n",
        "print(report)\n",
        "\n",
        "print(\"\\nConfusion Matrix (Test Set):\")\n",
        "print(confusion_matrix(y_test, y_pred))\n",
        "print(\"-\" * 40)\n"
      ]
    },
    {
      "cell_type": "code",
      "execution_count": 45,
      "id": "G2o_EoEs8fZF",
      "metadata": {
        "id": "G2o_EoEs8fZF"
      },
      "outputs": [],
      "source": [
        "def predict_disease(symptoms_list):\n",
        "            \"\"\"\n",
        "            Predicts the disease based on a list of reported symptoms.\n",
        "\n",
        "            Args:\n",
        "                symptoms_list (list): A list of symptom strings (e.g., ['itching', 'vomiting']).\n",
        "                                    The symptom names must match the column names in the training data.\n",
        "            \"\"\"\n",
        "            # Create an empty symptom array (all 0s)\n",
        "            input_data = np.zeros(len(symptom_columns), dtype=int)\n",
        "\n",
        "            # Create a Series for easy matching\n",
        "            symptom_series = pd.Series(input_data, index=symptom_columns)\n",
        "\n",
        "            # Map the reported symptoms to the correct index/column and set the value to 1\n",
        "            valid_symptoms = []\n",
        "            for symptom in symptoms_list:\n",
        "                # Clean the input symptom name to match the column names\n",
        "                cleaned_symptom = clean_col_name(symptom)\n",
        "                if cleaned_symptom in symptom_columns:\n",
        "                    symptom_series[cleaned_symptom] = 1\n",
        "                    valid_symptoms.append(symptom)\n",
        "                else:\n",
        "                    # Note: The cleaned symptom for 'Blood in urine(hematuria)' is 'blood_in_urine_hematuria'\n",
        "                    print(f\"Warning: Symptom '{symptom}' (cleaned to '{cleaned_symptom}') is NOT a known feature in the model.\")\n",
        "\n",
        "            # Reshape the data for prediction (1 row, N columns)\n",
        "            input_df = pd.DataFrame([symptom_series.values], columns=symptom_columns)\n",
        "\n",
        "            # Make the prediction\n",
        "            prediction_encoded = model.predict(input_df)\n",
        "\n",
        "            # Decode the result back to the disease name\n",
        "            predicted_disease = le.inverse_transform(prediction_encoded)[0]\n",
        "\n",
        "            print(\"\\n--- Prediction Result ---\")\n",
        "            print(f\"Reported Symptoms: {', '.join(valid_symptoms) if valid_symptoms else 'None'}\")\n",
        "            print(f\"Predicted Disease: {predicted_disease}\")\n",
        "            print(\"-------------------------\")\n",
        "\n",
        "            return predicted_disease"
      ]
    },
    {
      "cell_type": "code",
      "execution_count": 46,
      "id": "A7Q_9e67-7eX",
      "metadata": {
        "colab": {
          "base_uri": "https://localhost:8080/",
          "height": 452
        },
        "id": "A7Q_9e67-7eX",
        "outputId": "716e79ba-8354-4950-bd60-256d08ebb064"
      },
      "outputs": [
        {
          "name": "stdout",
          "output_type": "stream",
          "text": [
            "--- Example Predictions ---\n",
            "\n",
            "--- Prediction Result ---\n",
            "Reported Symptoms: itching, skin rash\n",
            "Predicted Disease: Fungal infection\n",
            "-------------------------\n",
            "\n",
            "--- Prediction Result ---\n",
            "Reported Symptoms: stomach pain, vomiting, headache\n",
            "Predicted Disease: Paralysis (brain hemorrhage)\n",
            "-------------------------\n",
            "\n",
            "--- Prediction Result ---\n",
            "Reported Symptoms: high fever, Spider veins on skin, cough\n",
            "Predicted Disease: AIDS\n",
            "-------------------------\n",
            "\n",
            "--- User-Requested Prediction ---\n",
            "Warning: Symptom 'Blood in urine(hematuria)' (cleaned to 'blood_in_urinehematuria') is NOT a known feature in the model.\n",
            "\n",
            "--- Prediction Result ---\n",
            "Reported Symptoms: vomiting, fatigue, restlessness, nausea, back pain\n",
            "Predicted Disease: Kidney Stone\n",
            "-------------------------\n"
          ]
        },
        {
          "data": {
            "text/plain": [
              "'Kidney Stone'"
            ]
          },
          "execution_count": 46,
          "metadata": {},
          "output_type": "execute_result"
        }
      ],
      "source": [
        "print(\"--- Example Predictions ---\")\n",
        "        # Example 1: A patient with itching and skin rash (consistent with Fungal infection)\n",
        "predict_disease(['itching', 'skin rash'])\n",
        "\n",
        "        # Example 2: A patient with stomach pain, vomiting, and headache\n",
        "predict_disease(['stomach pain', 'vomiting', 'headache'])\n",
        "\n",
        "        # Example 3: Test the specific symptom: 'Spider veins on skin' (pass in the raw string)\n",
        "        # The output will confirm if the cleaning process successfully maps it to 'spider_veins_on_skin'\n",
        "predict_disease(['high fever', 'Spider veins on skin', 'cough'])\n",
        "\n",
        "        # NEW PREDICTION using the user's list\n",
        "print(\"\\n--- User-Requested Prediction ---\")\n",
        "predict_disease(['vomiting','fatigue','restlessness','nausea','back pain','Blood in urine(hematuria)'])"
      ]
    },
    {
      "cell_type": "code",
      "execution_count": 47,
      "id": "pLimpuTF_Pek",
      "metadata": {
        "colab": {
          "base_uri": "https://localhost:8080/",
          "height": 122
        },
        "id": "pLimpuTF_Pek",
        "outputId": "dfed90c8-c819-45af-b31a-3e94f1fe1f0d"
      },
      "outputs": [
        {
          "name": "stdout",
          "output_type": "stream",
          "text": [
            "\n",
            "--- Prediction Result ---\n",
            "Reported Symptoms: loss of appetite, constipation, abdominal pain, diarrhoea, pain during bowel movements, bloody stool\n",
            "Predicted Disease: Colon Cancer\n",
            "-------------------------\n"
          ]
        },
        {
          "data": {
            "text/plain": [
              "'Colon Cancer'"
            ]
          },
          "execution_count": 47,
          "metadata": {},
          "output_type": "execute_result"
        }
      ],
      "source": [
        "predict_disease(['loss of appetite','constipation','abdominal pain','diarrhoea','pain during bowel movements','bloody stool'])"
      ]
    },
    {
      "cell_type": "code",
      "execution_count": 48,
      "id": "pz2KVZNtCCWa",
      "metadata": {
        "colab": {
          "base_uri": "https://localhost:8080/",
          "height": 122
        },
        "id": "pz2KVZNtCCWa",
        "outputId": "441a58ee-6737-4707-f253-fafb0df82481"
      },
      "outputs": [
        {
          "name": "stdout",
          "output_type": "stream",
          "text": [
            "\n",
            "--- Prediction Result ---\n",
            "Reported Symptoms: bloody stool, pain during bowel movements, loss of appetite, abdominal pain, constipation, constipation\n",
            "Predicted Disease: Colon Cancer\n",
            "-------------------------\n"
          ]
        },
        {
          "data": {
            "text/plain": [
              "'Colon Cancer'"
            ]
          },
          "execution_count": 48,
          "metadata": {},
          "output_type": "execute_result"
        }
      ],
      "source": [
        "predict_disease(['bloody stool','pain during bowel movements','loss of appetite','abdominal pain','constipation','constipation'])"
      ]
    },
    {
      "cell_type": "code",
      "execution_count": 49,
      "id": "Tsed6AsCCeOh",
      "metadata": {
        "colab": {
          "base_uri": "https://localhost:8080/",
          "height": 122
        },
        "id": "Tsed6AsCCeOh",
        "outputId": "36afb586-6412-4a7e-e533-6f69d50e8c2a"
      },
      "outputs": [
        {
          "name": "stdout",
          "output_type": "stream",
          "text": [
            "\n",
            "--- Prediction Result ---\n",
            "Reported Symptoms: bloody stool, pain during bowel movements\n",
            "Predicted Disease: Dimorphic hemmorhoids(piles)\n",
            "-------------------------\n"
          ]
        },
        {
          "data": {
            "text/plain": [
              "'Dimorphic hemmorhoids(piles)'"
            ]
          },
          "execution_count": 49,
          "metadata": {},
          "output_type": "execute_result"
        }
      ],
      "source": [
        "predict_disease(['bloody stool','pain during bowel movements'])"
      ]
    },
    {
      "cell_type": "code",
      "execution_count": 50,
      "id": "X9gYfU3CC1LE",
      "metadata": {
        "colab": {
          "base_uri": "https://localhost:8080/",
          "height": 122
        },
        "id": "X9gYfU3CC1LE",
        "outputId": "3ba9abce-446a-4ff5-99e2-0f21705af85d"
      },
      "outputs": [
        {
          "name": "stdout",
          "output_type": "stream",
          "text": [
            "\n",
            "--- Prediction Result ---\n",
            "Reported Symptoms: bloody stool\n",
            "Predicted Disease: Dimorphic hemmorhoids(piles)\n",
            "-------------------------\n"
          ]
        },
        {
          "data": {
            "text/plain": [
              "'Dimorphic hemmorhoids(piles)'"
            ]
          },
          "execution_count": 50,
          "metadata": {},
          "output_type": "execute_result"
        }
      ],
      "source": [
        "predict_disease(['bloody stool'])"
      ]
    },
    {
      "cell_type": "code",
      "execution_count": 51,
      "id": "mhGeIN99C6xM",
      "metadata": {
        "colab": {
          "base_uri": "https://localhost:8080/",
          "height": 122
        },
        "id": "mhGeIN99C6xM",
        "outputId": "d268b3ed-2615-414c-bb68-7fc9ab3765f8"
      },
      "outputs": [
        {
          "name": "stdout",
          "output_type": "stream",
          "text": [
            "\n",
            "--- Prediction Result ---\n",
            "Reported Symptoms: night blindness\n",
            "Predicted Disease: Arthritis\n",
            "-------------------------\n"
          ]
        },
        {
          "data": {
            "text/plain": [
              "'Arthritis'"
            ]
          },
          "execution_count": 51,
          "metadata": {},
          "output_type": "execute_result"
        }
      ],
      "source": [
        "predict_disease(['night blindness'])"
      ]
    },
    {
      "cell_type": "code",
      "execution_count": 52,
      "id": "wCsefZIVDEOY",
      "metadata": {
        "colab": {
          "base_uri": "https://localhost:8080/",
          "height": 122
        },
        "id": "wCsefZIVDEOY",
        "outputId": "129f3dd1-466b-48a4-f1f3-7fd92f76544a"
      },
      "outputs": [
        {
          "name": "stdout",
          "output_type": "stream",
          "text": [
            "\n",
            "--- Prediction Result ---\n",
            "Reported Symptoms: itching, spider veins on skin, fatigue, weight loss, yellowish skin, dark urine, nausea, loss of appetite, abdominal pain, yellowing of eyes\n",
            "Predicted Disease: Liver Cirrhosis\n",
            "-------------------------\n"
          ]
        },
        {
          "data": {
            "text/plain": [
              "'Liver Cirrhosis'"
            ]
          },
          "execution_count": 52,
          "metadata": {},
          "output_type": "execute_result"
        }
      ],
      "source": [
        "predict_disease(['itching','spider veins on skin','fatigue','weight loss','yellowish skin','dark urine','nausea','loss of appetite','abdominal pain','yellowing of eyes'])"
      ]
    },
    {
      "cell_type": "code",
      "execution_count": 53,
      "id": "RiiPc9REDKui",
      "metadata": {
        "colab": {
          "base_uri": "https://localhost:8080/",
          "height": 140
        },
        "id": "RiiPc9REDKui",
        "outputId": "4d1a55dc-f5c3-4069-a46d-205132811bb5"
      },
      "outputs": [
        {
          "name": "stdout",
          "output_type": "stream",
          "text": [
            "Warning: Symptom 'diarrhea' (cleaned to 'diarrhea') is NOT a known feature in the model.\n",
            "\n",
            "--- Prediction Result ---\n",
            "Reported Symptoms: Abdominal pain, nausea, vomiting\n",
            "Predicted Disease: Alcoholic hepatitis\n",
            "-------------------------\n"
          ]
        },
        {
          "data": {
            "text/plain": [
              "'Alcoholic hepatitis'"
            ]
          },
          "execution_count": 53,
          "metadata": {},
          "output_type": "execute_result"
        }
      ],
      "source": [
        "predict_disease(['Abdominal pain', 'diarrhea', 'nausea', 'vomiting'])"
      ]
    },
    {
      "cell_type": "code",
      "execution_count": 54,
      "id": "QsLDIV39IO13",
      "metadata": {
        "colab": {
          "base_uri": "https://localhost:8080/",
          "height": 140
        },
        "id": "QsLDIV39IO13",
        "outputId": "337aae84-60b9-48d7-f823-eead53c380c7"
      },
      "outputs": [
        {
          "name": "stdout",
          "output_type": "stream",
          "text": [
            "Warning: Symptom 'shortness of breath' (cleaned to 'shortness_of_breath') is NOT a known feature in the model.\n",
            "\n",
            "--- Prediction Result ---\n",
            "Reported Symptoms: Chest pain, sweating, nausea\n",
            "Predicted Disease: Heart attack\n",
            "-------------------------\n"
          ]
        },
        {
          "data": {
            "text/plain": [
              "'Heart attack'"
            ]
          },
          "execution_count": 54,
          "metadata": {},
          "output_type": "execute_result"
        }
      ],
      "source": [
        "predict_disease(['Chest pain', 'sweating', 'shortness of breath', 'nausea'])"
      ]
    },
    {
      "cell_type": "code",
      "execution_count": 55,
      "id": "HInBNPgoIgDm",
      "metadata": {
        "colab": {
          "base_uri": "https://localhost:8080/",
          "height": 157
        },
        "id": "HInBNPgoIgDm",
        "outputId": "30f1633a-0f12-4bbc-ccf8-7f52cb5398c5"
      },
      "outputs": [
        {
          "name": "stdout",
          "output_type": "stream",
          "text": [
            "Warning: Symptom 'Persistent cough' (cleaned to 'persistent_cough') is NOT a known feature in the model.\n",
            "Warning: Symptom 'night sweats' (cleaned to 'night_sweats') is NOT a known feature in the model.\n",
            "\n",
            "--- Prediction Result ---\n",
            "Reported Symptoms: weight loss\n",
            "Predicted Disease: Arthritis\n",
            "-------------------------\n"
          ]
        },
        {
          "data": {
            "text/plain": [
              "'Arthritis'"
            ]
          },
          "execution_count": 55,
          "metadata": {},
          "output_type": "execute_result"
        }
      ],
      "source": [
        "predict_disease(['Persistent cough', 'weight loss', 'night sweats'])"
      ]
    },
    {
      "cell_type": "code",
      "execution_count": 56,
      "id": "xnoXWRzFKid7",
      "metadata": {
        "colab": {
          "base_uri": "https://localhost:8080/",
          "height": 174
        },
        "id": "xnoXWRzFKid7",
        "outputId": "c2d99927-7766-4273-a598-46f4f89e51da"
      },
      "outputs": [
        {
          "name": "stdout",
          "output_type": "stream",
          "text": [
            "Warning: Symptom 'Fever' (cleaned to 'fever') is NOT a known feature in the model.\n",
            "Warning: Symptom 'tiredness' (cleaned to 'tiredness') is NOT a known feature in the model.\n",
            "Warning: Symptom 'loss of taste smell' (cleaned to 'loss_of_taste_smell') is NOT a known feature in the model.\n",
            "\n",
            "--- Prediction Result ---\n",
            "Reported Symptoms: cough\n",
            "Predicted Disease: Arthritis\n",
            "-------------------------\n"
          ]
        },
        {
          "data": {
            "text/plain": [
              "'Arthritis'"
            ]
          },
          "execution_count": 56,
          "metadata": {},
          "output_type": "execute_result"
        }
      ],
      "source": [
        "predict_disease(['Fever', 'cough', 'tiredness', 'loss of taste smell'])"
      ]
    },
    {
      "cell_type": "code",
      "execution_count": 57,
      "id": "R2ppEA7pK2WZ",
      "metadata": {
        "colab": {
          "base_uri": "https://localhost:8080/",
          "height": 192
        },
        "id": "R2ppEA7pK2WZ",
        "outputId": "2df9a887-a065-46a7-d41e-1aeb9cb3757d"
      },
      "outputs": [
        {
          "name": "stdout",
          "output_type": "stream",
          "text": [
            "Warning: Symptom 'Tingling hands/feet' (cleaned to 'tingling_hands/feet') is NOT a known feature in the model.\n",
            "Warning: Symptom 'tiredness' (cleaned to 'tiredness') is NOT a known feature in the model.\n",
            "Warning: Symptom 'pale skin' (cleaned to 'pale_skin') is NOT a known feature in the model.\n",
            "Warning: Symptom 'anemia' (cleaned to 'anemia') is NOT a known feature in the model.\n",
            "\n",
            "--- Prediction Result ---\n",
            "Reported Symptoms: None\n",
            "Predicted Disease: Arthritis\n",
            "-------------------------\n"
          ]
        },
        {
          "data": {
            "text/plain": [
              "'Arthritis'"
            ]
          },
          "execution_count": 57,
          "metadata": {},
          "output_type": "execute_result"
        }
      ],
      "source": [
        "predict_disease(['Tingling hands/feet', 'tiredness', 'pale skin','anemia'])"
      ]
    },
    {
      "cell_type": "code",
      "execution_count": 58,
      "id": "TLbHcIsCLHcD",
      "metadata": {
        "colab": {
          "base_uri": "https://localhost:8080/",
          "height": 122
        },
        "id": "TLbHcIsCLHcD",
        "outputId": "143d2c17-76c8-4889-cecf-247219e04e21"
      },
      "outputs": [
        {
          "name": "stdout",
          "output_type": "stream",
          "text": [
            "\n",
            "--- Prediction Result ---\n",
            "Reported Symptoms: Bone pain, muscle weakness, fatigue\n",
            "Predicted Disease: Vitamin D  Deficiency\n",
            "-------------------------\n"
          ]
        },
        {
          "data": {
            "text/plain": [
              "'Vitamin D  Deficiency'"
            ]
          },
          "execution_count": 58,
          "metadata": {},
          "output_type": "execute_result"
        }
      ],
      "source": [
        "predict_disease(['Bone pain', 'muscle weakness', 'fatigue'])"
      ]
    },
    {
      "cell_type": "code",
      "execution_count": 59,
      "id": "P4YoOsBELryM",
      "metadata": {
        "colab": {
          "base_uri": "https://localhost:8080/",
          "height": 140
        },
        "id": "P4YoOsBELryM",
        "outputId": "b48027ed-170b-4ee7-b132-6516bfea224e"
      },
      "outputs": [
        {
          "name": "stdout",
          "output_type": "stream",
          "text": [
            "Warning: Symptom 'Muscle cramps' (cleaned to 'muscle_cramps') is NOT a known feature in the model.\n",
            "\n",
            "--- Prediction Result ---\n",
            "Reported Symptoms: brittle nails, bone pain\n",
            "Predicted Disease: Vitamin D  Deficiency\n",
            "-------------------------\n"
          ]
        },
        {
          "data": {
            "text/plain": [
              "'Vitamin D  Deficiency'"
            ]
          },
          "execution_count": 59,
          "metadata": {},
          "output_type": "execute_result"
        }
      ],
      "source": [
        "predict_disease(['Muscle cramps', 'brittle nails', 'bone pain'])"
      ]
    },
    {
      "cell_type": "code",
      "execution_count": 60,
      "id": "VxAtyV05MyZc",
      "metadata": {
        "colab": {
          "base_uri": "https://localhost:8080/",
          "height": 122
        },
        "id": "VxAtyV05MyZc",
        "outputId": "2dc8cee3-50ee-4957-bbdb-5b0931c4ba99"
      },
      "outputs": [
        {
          "name": "stdout",
          "output_type": "stream",
          "text": [
            "\n",
            "--- Prediction Result ---\n",
            "Reported Symptoms: bleeding gums swollen gums, nosebleeds, dry skin\n",
            "Predicted Disease: Vitamin C  Deficiency\n",
            "-------------------------\n"
          ]
        },
        {
          "data": {
            "text/plain": [
              "'Vitamin C  Deficiency'"
            ]
          },
          "execution_count": 60,
          "metadata": {},
          "output_type": "execute_result"
        }
      ],
      "source": [
        "predict_disease([ 'bleeding gums swollen gums','nosebleeds','dry skin'])"
      ]
    },
    {
      "cell_type": "code",
      "execution_count": 61,
      "id": "uwjJ9eNjNBCg",
      "metadata": {
        "colab": {
          "base_uri": "https://localhost:8080/",
          "height": 192
        },
        "id": "uwjJ9eNjNBCg",
        "outputId": "94a4d389-04df-4679-93fa-76afc0d2d731"
      },
      "outputs": [
        {
          "name": "stdout",
          "output_type": "stream",
          "text": [
            "Warning: Symptom 'Swelling in the limbs' (cleaned to 'swelling_in_the_limbs') is NOT a known feature in the model.\n",
            "Warning: Symptom 'Swollen lymph nodes' (cleaned to 'swollen_lymph_nodes') is NOT a known feature in the model.\n",
            "Warning: Symptom 'fever' (cleaned to 'fever') is NOT a known feature in the model.\n",
            "Warning: Symptom 'weakness' (cleaned to 'weakness') is NOT a known feature in the model.\n",
            "\n",
            "--- Prediction Result ---\n",
            "Reported Symptoms: chills, joint pain, fatigue\n",
            "Predicted Disease: Vitamin D  Deficiency\n",
            "-------------------------\n"
          ]
        },
        {
          "data": {
            "text/plain": [
              "'Vitamin D  Deficiency'"
            ]
          },
          "execution_count": 61,
          "metadata": {},
          "output_type": "execute_result"
        }
      ],
      "source": [
        "predict_disease(['Swelling in the limbs','Swollen lymph nodes','fever','weakness','chills','joint pain','fatigue'])"
      ]
    },
    {
      "cell_type": "code",
      "execution_count": 62,
      "id": "9ZVTT_CdNmoP",
      "metadata": {
        "colab": {
          "base_uri": "https://localhost:8080/",
          "height": 122
        },
        "id": "9ZVTT_CdNmoP",
        "outputId": "a4678eb1-2fe6-4907-ebe1-68200ffdc5d2"
      },
      "outputs": [
        {
          "name": "stdout",
          "output_type": "stream",
          "text": [
            "\n",
            "--- Prediction Result ---\n",
            "Reported Symptoms: itching, skin rash, nodal skin eruptions, blurred and distorted vision\n",
            "Predicted Disease: Fungal infection\n",
            "-------------------------\n"
          ]
        },
        {
          "data": {
            "text/plain": [
              "'Fungal infection'"
            ]
          },
          "execution_count": 62,
          "metadata": {},
          "output_type": "execute_result"
        }
      ],
      "source": [
        "predict_disease(['itching', 'skin rash', 'nodal skin eruptions', 'blurred and distorted vision'])"
      ]
    },
    {
      "cell_type": "code",
      "execution_count": 63,
      "id": "5BTVKcd7RvRI",
      "metadata": {
        "colab": {
          "base_uri": "https://localhost:8080/",
          "height": 122
        },
        "id": "5BTVKcd7RvRI",
        "outputId": "e927e928-e1fd-45d0-c693-1a0177381e05"
      },
      "outputs": [
        {
          "name": "stdout",
          "output_type": "stream",
          "text": [
            "\n",
            "--- Prediction Result ---\n",
            "Reported Symptoms: stomach pain, acidity, ulcers on tongue, cough, vomiting, muscle weakness\n",
            "Predicted Disease: GERD\n",
            "-------------------------\n"
          ]
        },
        {
          "data": {
            "text/plain": [
              "'GERD'"
            ]
          },
          "execution_count": 63,
          "metadata": {},
          "output_type": "execute_result"
        }
      ],
      "source": [
        "predict_disease(['stomach pain', 'acidity', 'ulcers on tongue', 'cough', 'vomiting', 'muscle weakness'])"
      ]
    },
    {
      "cell_type": "code",
      "execution_count": 64,
      "id": "LAgNNoi7S7dC",
      "metadata": {
        "colab": {
          "base_uri": "https://localhost:8080/",
          "height": 140
        },
        "id": "LAgNNoi7S7dC",
        "outputId": "78b0ee22-f8fb-4834-d62f-f0573b00fd41"
      },
      "outputs": [
        {
          "name": "stdout",
          "output_type": "stream",
          "text": [
            "Warning: Symptom 'diarrhea' (cleaned to 'diarrhea') is NOT a known feature in the model.\n",
            "\n",
            "--- Prediction Result ---\n",
            "Reported Symptoms: itching, vomiting, headache, yellowish skin, nausea, loss of appetite\n",
            "Predicted Disease: Chronic cholestasis\n",
            "-------------------------\n"
          ]
        },
        {
          "data": {
            "text/plain": [
              "'Chronic cholestasis'"
            ]
          },
          "execution_count": 64,
          "metadata": {},
          "output_type": "execute_result"
        }
      ],
      "source": [
        "predict_disease(['itching', 'vomiting', 'headache', 'yellowish skin', 'nausea', 'loss of appetite', 'diarrhea'])"
      ]
    },
    {
      "cell_type": "code",
      "execution_count": 65,
      "id": "EGQgt6E-TNHw",
      "metadata": {
        "colab": {
          "base_uri": "https://localhost:8080/",
          "height": 122
        },
        "id": "EGQgt6E-TNHw",
        "outputId": "74d478e0-8f1c-4dd6-884f-26e4b9b08c4f"
      },
      "outputs": [
        {
          "name": "stdout",
          "output_type": "stream",
          "text": [
            "\n",
            "--- Prediction Result ---\n",
            "Reported Symptoms: muscle wasting, patches in throat, high fever, extra marital contacts\n",
            "Predicted Disease: AIDS\n",
            "-------------------------\n"
          ]
        },
        {
          "data": {
            "text/plain": [
              "'AIDS'"
            ]
          },
          "execution_count": 65,
          "metadata": {},
          "output_type": "execute_result"
        }
      ],
      "source": [
        "predict_disease(['muscle wasting', 'patches in throat', 'high fever', 'extra marital contacts'])"
      ]
    },
    {
      "cell_type": "code",
      "execution_count": 66,
      "id": "jtYhyEIVTddQ",
      "metadata": {
        "colab": {
          "base_uri": "https://localhost:8080/",
          "height": 140
        },
        "id": "jtYhyEIVTddQ",
        "outputId": "68287560-66dd-4b97-acd6-48b2b338af29"
      },
      "outputs": [
        {
          "name": "stdout",
          "output_type": "stream",
          "text": [
            "Warning: Symptom 'scurfing' (cleaned to 'scurfing') is NOT a known feature in the model.\n",
            "\n",
            "--- Prediction Result ---\n",
            "Reported Symptoms: skin rash, silver like dusting, small dents in nails\n",
            "Predicted Disease: Psoriasis\n",
            "-------------------------\n"
          ]
        },
        {
          "data": {
            "text/plain": [
              "'Psoriasis'"
            ]
          },
          "execution_count": 66,
          "metadata": {},
          "output_type": "execute_result"
        }
      ],
      "source": [
        "predict_disease(['skin rash', 'scurfing', 'silver like dusting', 'small dents in nails'])"
      ]
    },
    {
      "cell_type": "code",
      "execution_count": 67,
      "id": "1nAFAskoTxbG",
      "metadata": {
        "colab": {
          "base_uri": "https://localhost:8080/",
          "height": 122
        },
        "id": "1nAFAskoTxbG",
        "outputId": "2343f8ca-343f-4578-c7da-785a20f1335e"
      },
      "outputs": [
        {
          "name": "stdout",
          "output_type": "stream",
          "text": [
            "\n",
            "--- Prediction Result ---\n",
            "Reported Symptoms: fatigue, cold hands and feets, breathlessness, headache, dizziness, chest pain, palpitations, excessive hunger, family history, malaise\n",
            "Predicted Disease: Hypertension \n",
            "-------------------------\n"
          ]
        },
        {
          "data": {
            "text/plain": [
              "'Hypertension '"
            ]
          },
          "execution_count": 67,
          "metadata": {},
          "output_type": "execute_result"
        }
      ],
      "source": [
        "predict_disease(['fatigue', 'cold hands and feets', 'breathlessness', 'headache', 'dizziness', 'chest pain', 'palpitations', 'excessive hunger', 'family history', 'malaise'])"
      ]
    },
    {
      "cell_type": "code",
      "execution_count": 68,
      "id": "DaZJXoEsUXeo",
      "metadata": {
        "colab": {
          "base_uri": "https://localhost:8080/",
          "height": 122
        },
        "id": "DaZJXoEsUXeo",
        "outputId": "74cad054-c232-4992-a611-4a1cf09fed4d"
      },
      "outputs": [
        {
          "name": "stdout",
          "output_type": "stream",
          "text": [
            "\n",
            "--- Prediction Result ---\n",
            "Reported Symptoms: fatigue, malaise, watering_from_eyes, bone_pain, tingling_in_hands_feets, memory_loss, blood_deficiency\n",
            "Predicted Disease: Vitamin B12 Deficiency\n",
            "-------------------------\n"
          ]
        },
        {
          "data": {
            "text/plain": [
              "'Vitamin B12 Deficiency'"
            ]
          },
          "execution_count": 68,
          "metadata": {},
          "output_type": "execute_result"
        }
      ],
      "source": [
        "predict_disease(['fatigue', 'malaise', 'watering_from_eyes', 'bone_pain', 'tingling_in_hands_feets', 'memory_loss', 'blood_deficiency'])"
      ]
    },
    {
      "cell_type": "code",
      "execution_count": 69,
      "id": "rEbMib0jb_ab",
      "metadata": {
        "id": "rEbMib0jb_ab"
      },
      "outputs": [
        {
          "name": "stdout",
          "output_type": "stream",
          "text": [
            "\n",
            "--- Prediction Result ---\n",
            "Reported Symptoms: vomiting, fatigue, restlessness, lethargy, headache, nausea, dizziness, dehydration\n",
            "Predicted Disease: Sodium deficiency�\n",
            "-------------------------\n"
          ]
        },
        {
          "data": {
            "text/plain": [
              "'Sodium deficiency�'"
            ]
          },
          "execution_count": 69,
          "metadata": {},
          "output_type": "execute_result"
        }
      ],
      "source": [
        "predict_disease(['vomiting', 'fatigue', 'restlessness', 'lethargy', 'headache', 'nausea', 'dizziness', 'dehydration'])"
      ]
    },
    {
      "cell_type": "code",
      "execution_count": 70,
      "id": "e8e92da3",
      "metadata": {},
      "outputs": [
        {
          "name": "stdout",
          "output_type": "stream",
          "text": [
            "\n",
            "--- Prediction Result ---\n",
            "Reported Symptoms: joint pain, fatigue, abdominal pain, mild fever, malaise, phlegm, throat irritation, blurred vision, night blindness, dry eye\n",
            "Predicted Disease: Vitamin A  Deficiency\n",
            "-------------------------\n"
          ]
        },
        {
          "data": {
            "text/plain": [
              "'Vitamin A  Deficiency'"
            ]
          },
          "execution_count": 70,
          "metadata": {},
          "output_type": "execute_result"
        }
      ],
      "source": [
        "predict_disease(['joint pain', 'fatigue', 'abdominal pain', 'mild fever', 'malaise', 'phlegm', 'throat irritation', 'blurred vision', 'night blindness', 'dry eye'])"
      ]
    },
    {
      "cell_type": "code",
      "execution_count": 71,
      "id": "4a71ee65",
      "metadata": {},
      "outputs": [
        {
          "name": "stdout",
          "output_type": "stream",
          "text": [
            "Warning: Symptom 'diarrhea' (cleaned to 'diarrhea') is NOT a known feature in the model.\n",
            "\n",
            "--- Prediction Result ---\n",
            "Reported Symptoms: vomiting, fatigue, weight_loss, headache, nausea, loss of appetite, abdominal pain, mild fever, dizziness, dehydration\n",
            "Predicted Disease: Food Poisoning\n",
            "-------------------------\n"
          ]
        },
        {
          "data": {
            "text/plain": [
              "'Food Poisoning'"
            ]
          },
          "execution_count": 71,
          "metadata": {},
          "output_type": "execute_result"
        }
      ],
      "source": [
        "predict_disease(['vomiting', 'fatigue', 'weight_loss', 'headache', 'nausea', 'loss of appetite', 'abdominal pain', 'diarrhea', 'mild fever', 'dizziness', 'dehydration'])"
      ]
    },
    {
      "cell_type": "code",
      "execution_count": 72,
      "id": "e33a9321",
      "metadata": {},
      "outputs": [
        {
          "name": "stdout",
          "output_type": "stream",
          "text": [
            "\n",
            "--- Prediction Result ---\n",
            "Reported Symptoms: vomiting, fatigue, anxiety, sweating, headache, nausea, irritability, depression, palpitations, excessive hunger\n",
            "Predicted Disease: Hypoglycemia\n",
            "-------------------------\n"
          ]
        },
        {
          "data": {
            "text/plain": [
              "'Hypoglycemia'"
            ]
          },
          "execution_count": 72,
          "metadata": {},
          "output_type": "execute_result"
        }
      ],
      "source": [
        "predict_disease(['vomiting', 'fatigue', 'anxiety', 'sweating', 'headache', 'nausea', 'irritability', 'depression', 'palpitations', 'excessive hunger'])"
      ]
    },
    {
      "cell_type": "code",
      "execution_count": null,
      "id": "6e09aa60",
      "metadata": {},
      "outputs": [],
      "source": []
    }
  ],
  "metadata": {
    "colab": {
      "provenance": []
    },
    "kernelspec": {
      "display_name": "base",
      "language": "python",
      "name": "python3"
    },
    "language_info": {
      "codemirror_mode": {
        "name": "ipython",
        "version": 3
      },
      "file_extension": ".py",
      "mimetype": "text/x-python",
      "name": "python",
      "nbconvert_exporter": "python",
      "pygments_lexer": "ipython3",
      "version": "3.13.5"
    }
  },
  "nbformat": 4,
  "nbformat_minor": 5
}
